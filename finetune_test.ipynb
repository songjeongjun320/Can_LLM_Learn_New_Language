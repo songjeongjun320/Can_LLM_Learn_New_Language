{
 "cells": [
  {
   "cell_type": "code",
   "execution_count": 1,
   "metadata": {},
   "outputs": [
    {
     "name": "stdout",
     "output_type": "stream",
     "text": [
      "2.6.0+cu124\n",
      "True\n",
      "NVIDIA A100-SXM4-80GB\n"
     ]
    }
   ],
   "source": [
    "import torch\n",
    "print(torch.__version__)\n",
    "print(torch.cuda.is_available()) \n",
    "print(torch.cuda.get_device_name(0)) "
   ]
  },
  {
   "cell_type": "code",
   "execution_count": 2,
   "metadata": {},
   "outputs": [
    {
     "name": "stdout",
     "output_type": "stream",
     "text": [
      "/packages/apps/jupyter/2023-10-09/bin/python3.11\n"
     ]
    }
   ],
   "source": [
    "import sys\n",
    "print(sys.executable)"
   ]
  },
  {
   "cell_type": "code",
   "execution_count": null,
   "metadata": {},
   "outputs": [
    {
     "data": {
      "application/vnd.jupyter.widget-view+json": {
       "model_id": "eff749e58df3409a9bd7590f1e329b36",
       "version_major": 2,
       "version_minor": 0
      },
      "text/plain": [
       "Loading checkpoint shards:   0%|          | 0/3 [00:00<?, ?it/s]"
      ]
     },
     "metadata": {},
     "output_type": "display_data"
    }
   ],
   "source": [
    "from transformers import AutoTokenizer, AutoModelForCausalLM\n",
    "import torch\n",
    "\n",
    "# Fine-tuning된 모델과 토크나이저 로드\n",
    "model_path = \"./fine-tuned-models/fine-tuned-olmo7B-v12-80000\"\n",
    "tokenizer = AutoTokenizer.from_pretrained(model_path, trust_remote_code=True)\n",
    "model = AutoModelForCausalLM.from_pretrained(model_path, trust_remote_code=True)\n",
    "\n",
    "# 모델을 GPU로 이동 (옵션)\n",
    "device = torch.device(\"cuda\" if torch.cuda.is_available() else \"cpu\")\n",
    "model = model.to(device)\n",
    "\n",
    "# 입력 텍스트 : How was your today?\n",
    "input_text = \"\"\"오늘 하루 어땠니?. Generally when this conversation happeneing? Explain Simply.\n",
    "Answer: \"\"\"\n",
    "\n",
    "# 토큰화 (token_type_ids를 반환하지 않도록 설정)\n",
    "inputs = tokenizer(f\"Input: {input_text}\\nOutput:\", return_tensors=\"pt\", return_token_type_ids=False)\n",
    "\n",
    "# 입력 데이터를 모델과 동일한 디바이스로 이동\n",
    "inputs = {key: value.to(device) for key, value in inputs.items()}\n",
    "\n",
    "# 출력 생성\n",
    "outputs = model.generate(**inputs, max_length=512, do_sample=True, top_k=50, top_p=0.95)\n",
    "\n",
    "# 결과 디코딩\n",
    "output_text = tokenizer.decode(outputs[0], skip_special_tokens=True)\n",
    "print(output_text)"
   ]
  },
  {
   "cell_type": "code",
   "execution_count": null,
   "metadata": {},
   "outputs": [],
   "source": [
    "from transformers import AutoTokenizer, AutoModelForCausalLM\n",
    "import torch\n",
    "\n",
    "# Fine-tuning된 모델과 토크나이저 로드\n",
    "model_path = \"./fine-tuned-models/fine-tuned-olmo1B-80000-v11\"\n",
    "tokenizer = AutoTokenizer.from_pretrained(model_path, trust_remote_code=True)\n",
    "model = AutoModelForCausalLM.from_pretrained(model_path, trust_remote_code=True)\n",
    "\n",
    "# 모델을 GPU로 이동 (옵션)\n",
    "device = torch.device(\"cuda\" if torch.cuda.is_available() else \"cpu\")\n",
    "model = model.to(device)\n",
    "\n",
    "# 입력 텍스트 : Hello my name is Jun.\n",
    "input_text = \"\"\"안녕 내 이름은 준이야.. Generally when this conversation happeneing? Explain Simply.\n",
    "Answer: \"\"\"\n",
    "\n",
    "# 토큰화 (token_type_ids를 반환하지 않도록 설정)\n",
    "inputs = tokenizer(f\"Input: {input_text}\\nOutput:\", return_tensors=\"pt\", return_token_type_ids=False)\n",
    "\n",
    "# 입력 데이터를 모델과 동일한 디바이스로 이동\n",
    "inputs = {key: value.to(device) for key, value in inputs.items()}\n",
    "\n",
    "# 출력 생성\n",
    "outputs = model.generate(**inputs, max_length=512, do_sample=True, top_k=50, top_p=0.95)\n",
    "\n",
    "# 결과 디코딩\n",
    "output_text = tokenizer.decode(outputs[0], skip_special_tokens=True)\n",
    "print(output_text)"
   ]
  },
  {
   "cell_type": "code",
   "execution_count": null,
   "metadata": {},
   "outputs": [],
   "source": [
    "from transformers import AutoTokenizer, AutoModelForCausalLM\n",
    "import torch\n",
    "\n",
    "# Fine-tuning된 모델과 토크나이저 로드\n",
    "tokenizer = AutoTokenizer.from_pretrained(model_path, trust_remote_code=True)\n",
    "model = AutoModelForCausalLM.from_pretrained(model_path, trust_remote_code=True)\n",
    "\n",
    "# 모델을 GPU로 이동 (옵션)\n",
    "device = torch.device(\"cuda\" if torch.cuda.is_available() else \"cpu\")\n",
    "model = model.to(device)\n",
    "\n",
    "# 입력 텍스트 : I need to get some grocery today.\n",
    "input_text = \"\"\"오늘 장을 좀 봐야겠어.. Generally when this conversation happeneing? Explain Simply.\n",
    "Answer: \"\"\"\n",
    "\n",
    "# 토큰화 (token_type_ids를 반환하지 않도록 설정)\n",
    "inputs = tokenizer(f\"Input: {input_text}\\nOutput:\", return_tensors=\"pt\", return_token_type_ids=False)\n",
    "\n",
    "# 입력 데이터를 모델과 동일한 디바이스로 이동\n",
    "inputs = {key: value.to(device) for key, value in inputs.items()}\n",
    "\n",
    "# 출력 생성\n",
    "outputs = model.generate(**inputs, max_length=512, do_sample=True, top_k=50, top_p=0.95)\n",
    "\n",
    "# 결과 디코딩\n",
    "output_text = tokenizer.decode(outputs[0], skip_special_tokens=True)\n",
    "print(output_text)"
   ]
  },
  {
   "cell_type": "code",
   "execution_count": null,
   "metadata": {},
   "outputs": [],
   "source": [
    "from transformers import AutoTokenizer, AutoModelForCausalLM\n",
    "import torch\n",
    "\n",
    "# Fine-tuning된 모델과 토크나이저 로드\n",
    "tokenizer = AutoTokenizer.from_pretrained(model_path, trust_remote_code=True)\n",
    "model = AutoModelForCausalLM.from_pretrained(model_path, trust_remote_code=True)\n",
    "\n",
    "# 모델을 GPU로 이동 (옵션)\n",
    "device = torch.device(\"cuda\" if torch.cuda.is_available() else \"cpu\")\n",
    "model = model.to(device)\n",
    "\n",
    "# 입력 텍스트 : I need to get some grocery today.\n",
    "input_text = \"\"\"인천항야적장에물건만잘전달해주세요. Generally when this conversation happeneing? Explain Simply.\n",
    "Answer: \"\"\"\n",
    "\n",
    "# 토큰화 (token_type_ids를 반환하지 않도록 설정)\n",
    "inputs = tokenizer(f\"Input: {input_text}\\nOutput:\", return_tensors=\"pt\", return_token_type_ids=False)\n",
    "\n",
    "# 입력 데이터를 모델과 동일한 디바이스로 이동\n",
    "inputs = {key: value.to(device) for key, value in inputs.items()}\n",
    "\n",
    "# 출력 생성\n",
    "outputs = model.generate(**inputs, max_length=512, do_sample=True, top_k=50, top_p=0.95)\n",
    "\n",
    "# 결과 디코딩\n",
    "output_text = tokenizer.decode(outputs[0], skip_special_tokens=True)\n",
    "print(output_text)"
   ]
  },
  {
   "cell_type": "code",
   "execution_count": null,
   "metadata": {},
   "outputs": [],
   "source": [
    "from transformers import AutoTokenizer, AutoModelForCausalLM\n",
    "import torch\n",
    "\n",
    "# Fine-tuning된 모델과 토크나이저 로드\n",
    "tokenizer = AutoTokenizer.from_pretrained(model_path, trust_remote_code=True)\n",
    "model = AutoModelForCausalLM.from_pretrained(model_path, trust_remote_code=True)\n",
    "\n",
    "# 모델을 GPU로 이동 (옵션)\n",
    "device = torch.device(\"cuda\" if torch.cuda.is_available() else \"cpu\")\n",
    "model = model.to(device)\n",
    "\n",
    "# 입력 텍스트 : I need to get some grocery today.\n",
    "input_text = \"\"\"아차너무막힌다. Generally when this conversation happeneing? Explain Simply.\n",
    "Answer: \"\"\"\n",
    "\n",
    "# 토큰화 (token_type_ids를 반환하지 않도록 설정)\n",
    "inputs = tokenizer(f\"Input: {input_text}\\nOutput:\", return_tensors=\"pt\", return_token_type_ids=False)\n",
    "\n",
    "# 입력 데이터를 모델과 동일한 디바이스로 이동\n",
    "inputs = {key: value.to(device) for key, value in inputs.items()}\n",
    "\n",
    "# 출력 생성\n",
    "outputs = model.generate(**inputs, max_length=512, do_sample=True, top_k=50, top_p=0.95)\n",
    "\n",
    "# 결과 디코딩\n",
    "output_text = tokenizer.decode(outputs[0], skip_special_tokens=True)\n",
    "print(output_text)"
   ]
  },
  {
   "cell_type": "code",
   "execution_count": null,
   "metadata": {},
   "outputs": [],
   "source": [
    "from transformers import AutoTokenizer, AutoModelForCausalLM\n",
    "import torch\n",
    "\n",
    "# Fine-tuning된 모델과 토크나이저 로드\n",
    "tokenizer = AutoTokenizer.from_pretrained(model_path, trust_remote_code=True)\n",
    "model = AutoModelForCausalLM.from_pretrained(model_path, trust_remote_code=True)\n",
    "\n",
    "# 모델을 GPU로 이동 (옵션)\n",
    "device = torch.device(\"cuda\" if torch.cuda.is_available() else \"cpu\")\n",
    "model = model.to(device)\n",
    "\n",
    "# 입력 텍스트 : I need to get some grocery today.\n",
    "input_text = \"\"\"아니이봐요아이씨. Generally when this conversation happeneing? Explain Simply.\n",
    "Answer: \"\"\"\n",
    "\n",
    "# 토큰화 (token_type_ids를 반환하지 않도록 설정)\n",
    "inputs = tokenizer(f\"Input: {input_text}\\nOutput:\", return_tensors=\"pt\", return_token_type_ids=False)\n",
    "\n",
    "# 입력 데이터를 모델과 동일한 디바이스로 이동\n",
    "inputs = {key: value.to(device) for key, value in inputs.items()}\n",
    "\n",
    "# 출력 생성\n",
    "outputs = model.generate(**inputs, max_length=512, do_sample=True, top_k=50, top_p=0.95)\n",
    "\n",
    "# 결과 디코딩\n",
    "output_text = tokenizer.decode(outputs[0], skip_special_tokens=True)\n",
    "print(output_text)"
   ]
  },
  {
   "cell_type": "code",
   "execution_count": null,
   "metadata": {},
   "outputs": [],
   "source": [
    "from transformers import AutoTokenizer, AutoModelForCausalLM\n",
    "import torch\n",
    "\n",
    "# Fine-tuning된 모델과 토크나이저 로드\n",
    "tokenizer = AutoTokenizer.from_pretrained(model_path, trust_remote_code=True)\n",
    "model = AutoModelForCausalLM.from_pretrained(model_path, trust_remote_code=True)\n",
    "\n",
    "# 모델을 GPU로 이동 (옵션)\n",
    "device = torch.device(\"cuda\" if torch.cuda.is_available() else \"cpu\")\n",
    "model = model.to(device)\n",
    "\n",
    "# 입력 텍스트 : I need to get some grocery today.\n",
    "input_text = \"\"\"저괜찮으세요많이안다치셨어요. Generally when this conversation happeneing? Explain Simply.\n",
    "Answer: \"\"\"\n",
    "\n",
    "# 토큰화 (token_type_ids를 반환하지 않도록 설정)\n",
    "inputs = tokenizer(f\"Input: {input_text}\\nOutput:\", return_tensors=\"pt\", return_token_type_ids=False)\n",
    "\n",
    "# 입력 데이터를 모델과 동일한 디바이스로 이동\n",
    "inputs = {key: value.to(device) for key, value in inputs.items()}\n",
    "\n",
    "# 출력 생성\n",
    "outputs = model.generate(**inputs, max_length=512, do_sample=True, top_k=50, top_p=0.95)\n",
    "\n",
    "# 결과 디코딩\n",
    "output_text = tokenizer.decode(outputs[0], skip_special_tokens=True)\n",
    "print(output_text)"
   ]
  },
  {
   "cell_type": "code",
   "execution_count": null,
   "metadata": {},
   "outputs": [],
   "source": []
  },
  {
   "cell_type": "code",
   "execution_count": null,
   "metadata": {},
   "outputs": [],
   "source": []
  },
  {
   "cell_type": "code",
   "execution_count": null,
   "metadata": {},
   "outputs": [],
   "source": []
  },
  {
   "cell_type": "code",
   "execution_count": null,
   "metadata": {},
   "outputs": [],
   "source": []
  }
 ],
 "metadata": {
  "kernelspec": {
   "display_name": "Python 3 (ipykernel)",
   "language": "python",
   "name": "python3"
  },
  "language_info": {
   "codemirror_mode": {
    "name": "ipython",
    "version": 3
   },
   "file_extension": ".py",
   "mimetype": "text/x-python",
   "name": "python",
   "nbconvert_exporter": "python",
   "pygments_lexer": "ipython3",
   "version": "3.11.6"
  }
 },
 "nbformat": 4,
 "nbformat_minor": 4
}
