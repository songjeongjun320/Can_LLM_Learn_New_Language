{
 "cells": [
  {
   "cell_type": "code",
   "execution_count": 1,
   "metadata": {},
   "outputs": [
    {
     "data": {
      "application/vnd.jupyter.widget-view+json": {
       "model_id": "12d5a56d014b404084a14aa8a97589a9",
       "version_major": 2,
       "version_minor": 0
      },
      "text/plain": [
       "Loading checkpoint shards:   0%|          | 0/3 [00:00<?, ?it/s]"
      ]
     },
     "metadata": {},
     "output_type": "display_data"
    },
    {
     "name": "stdout",
     "output_type": "stream",
     "text": [
      "Input: 오늘 하루 어땠니?. Generally when this conversation happeneing?.\n",
      "Answer: \n",
      "Output: This image captures a moment from an episode of \"The Loudest Voice\", featuring two men dressed in suits positioned at different news organizations.\n",
      "\n",
      "In the foreground, the top photo focuses on one man, who is standing behind a chair with his back turned to the camera and appears to be wearing a brown-gray suit jacket over a white shirt. The background of this photo reveals another man standing in front of him, dressed in all black, also holding a chair.\n",
      "\n",
      "The overall atmosphere of the image suggests that it may be a still from a film or television show, possibly a scene where the characters are admiring artwork. The presence of the Loudest Voice and the presence of other individuals in the background implies a sense of interaction between the two men, conveying a sense of professionalism and camaraderie.\n",
      "\n",
      "Overall, this image conveys a sense of formality and seriousness, suggesting that the scene may be set in an office or conference room. The men's attire and the context are not explicitly stated, but based on the surroundings, it appears to be a professional or business-related context.\n",
      "\n",
      "The background of the image reveals a glimpse into the characters' professional lives, highlighting their interactions with each other and the context surrounding them. Overall, the scene captures a moment of interaction between two men in a formal setting.\n",
      "\n",
      "Overall, this image conveys a sense of professionalism and formality, suggesting that the scene may have been taken at an office or conference room. The presence of the Loudest Voice adds a touch of warmth and coziness to the scene. However, its purpose is unclear, making it difficult to discern any specific objects or settings.\n",
      "\n",
      "Overall, the image presents a professional atmosphere, with the two men's suits conveying a sense of formality and attention. However, without more context, it is difficult to determine the specific purpose or meaning behind them.\n",
      "\n",
      "Overall, the image conveys a sense of professionalism and formality, likely capturing a moment of interaction between the two men. However, without more context, it is difficult to determine the specific purpose or meaning behind them.\n",
      "\n",
      "Here are some key features of the image:\n",
      "\n",
      "* A chair:\n",
      "\t+ Upholstered in a light-colored fabric\n",
      "\t+ Has a high back and armrest\n"
     ]
    }
   ],
   "source": [
    "from transformers import AutoTokenizer, AutoModelForCausalLM\n",
    "import torch\n",
    "\n",
    "# Fine-tuning된 모델과 토크나이저 로드\n",
    "model_path = \"./fine-tuned-models/fine-tuned-olmo-v5\"\n",
    "tokenizer = AutoTokenizer.from_pretrained(model_path)\n",
    "model = AutoModelForCausalLM.from_pretrained(model_path)\n",
    "\n",
    "# 모델을 GPU로 이동 (옵션)\n",
    "device = torch.device(\"cuda\" if torch.cuda.is_available() else \"cpu\")\n",
    "model = model.to(device)\n",
    "\n",
    "# 입력 텍스트 : How was your today?\n",
    "input_text = \"\"\"오늘 하루 어땠니?. Generally when this conversation happeneing?.\n",
    "Answer: \"\"\"\n",
    "\n",
    "# 토큰화\n",
    "inputs = tokenizer(f\"Input: {input_text}\\nOutput:\", return_tensors=\"pt\")\n",
    "\n",
    "# 출력 생성\n",
    "outputs = model.generate(**inputs, max_length=512, do_sample=True, top_k=50, top_p=0.95)\n",
    "\n",
    "# 결과 디코딩\n",
    "output_text = tokenizer.decode(outputs[0], skip_special_tokens=True)\n",
    "print(output_text)"
   ]
  },
  {
   "cell_type": "code",
   "execution_count": 2,
   "metadata": {},
   "outputs": [
    {
     "data": {
      "application/vnd.jupyter.widget-view+json": {
       "model_id": "ba2b4dc897b54007b9fce969324e36dc",
       "version_major": 2,
       "version_minor": 0
      },
      "text/plain": [
       "Loading checkpoint shards:   0%|          | 0/3 [00:00<?, ?it/s]"
      ]
     },
     "metadata": {},
     "output_type": "display_data"
    },
    {
     "name": "stdout",
     "output_type": "stream",
     "text": [
      "Input: 안녕 내 이름은 준이야.. Generally when this conversation happeneing?.\n",
      "Answer: \n",
      "Output: This image presents a split-screen composition featuring two distinct scenes.\n",
      "\n",
      "In the top half, a blurred figure is visible from behind, standing in front of a dark background. The bottom half showcases a sharp, high-quality photograph of a man dressed in a suit, complemented by a blue shirt and tie, standing in front of a blurred window with white trim. The image is framed by a thin black border on all sides.\n",
      "\n",
      "The juxtaposition of these two scenes creates an intriguing narrative, inviting the viewer to piece together the context in which they were captured. Overall, the image exudes a sense of intimacy and contemplation, inviting the viewer to ponder the significance of this unusual pairing.\n",
      "\n",
      "In the top half, a blurred figure stands on a porch outside a house, adding depth to the scene. The bottom half features the same man, now dressed in a dark suit, white shirt, and tie, who stands with his hands in a sharp looking at something off-camera. The blurred background suggests a dimly lit setting.\n",
      "\n",
      "The image's low resolution and focus on the foreground characters suggest that it may have been taken from an official still or promotional material for a film. Overall, the scene captures a moment of quiet contemplation, inviting the viewer to ponder the significance of this unusual pairing and the context surrounding it.\n",
      "\n",
      "The image's low resolution and focus on the foreground characters suggest that it may have been taken from a film or television show. The overall atmosphere is somber and contemplative, inviting the viewer to reflect on the characters' emotions and circumstances.\n",
      "\n",
      "Overall, this image presents a thought-provoking scene that invites the viewer to ponder the significance of this unusual pairing and its connection to the larger narrative. The man's attire and the context suggest a formal or professional setting, possibly a business meeting or conference.\n",
      "\n",
      "The image captures a moment of quiet intensity or focus, with the man's gaze directed outward, possibly engaged in a conversation. The presence of other individuals in the background adds an air of sophistication and intrigue, hinting at a large plot unfolding behind them. Overall, the scene captures a moment of quiet reflection or concern, inviting the viewer to ponder the significance of this unusual pairing and the connection between it and the larger narrative.\n",
      "\n",
      "The image effectively captures a moment of\n"
     ]
    }
   ],
   "source": [
    "from transformers import AutoTokenizer, AutoModelForCausalLM\n",
    "import torch\n",
    "\n",
    "# Fine-tuning된 모델과 토크나이저 로드\n",
    "tokenizer = AutoTokenizer.from_pretrained(model_path)\n",
    "model = AutoModelForCausalLM.from_pretrained(model_path)\n",
    "\n",
    "# 모델을 GPU로 이동 (옵션)\n",
    "device = torch.device(\"cuda\" if torch.cuda.is_available() else \"cpu\")\n",
    "model = model.to(device)\n",
    "\n",
    "# 입력 텍스트 : Hello my name is Jun.\n",
    "input_text = \"\"\"안녕 내 이름은 준이야.. Generally when this conversation happeneing?.\n",
    "Answer: \"\"\"\n",
    "\n",
    "# 토큰화\n",
    "inputs = tokenizer(f\"Input: {input_text}\\nOutput:\", return_tensors=\"pt\")\n",
    "\n",
    "# 출력 생성\n",
    "outputs = model.generate(**inputs, max_length=512, do_sample=True, top_k=50, top_p=0.95)\n",
    "\n",
    "# 결과 디코딩\n",
    "output_text = tokenizer.decode(outputs[0], skip_special_tokens=True)\n",
    "print(output_text)"
   ]
  },
  {
   "cell_type": "code",
   "execution_count": 3,
   "metadata": {},
   "outputs": [
    {
     "data": {
      "application/vnd.jupyter.widget-view+json": {
       "model_id": "923e0bc185264ccbbb9665e08af91823",
       "version_major": 2,
       "version_minor": 0
      },
      "text/plain": [
       "Loading checkpoint shards:   0%|          | 0/3 [00:00<?, ?it/s]"
      ]
     },
     "metadata": {},
     "output_type": "display_data"
    },
    {
     "name": "stdout",
     "output_type": "stream",
     "text": [
      "Input: 오늘 장을 좀 봐야겠어.. Generally when this conversation happeneing?.\n",
      "Answer: \n",
      "Output: Here is a rephrased version of the caption:\n",
      "\n",
      "This image captures a dramatic moment from a movie or TV show, featuring two men dressed in suits facing each other.\n",
      "\n",
      "In the foreground, one man stands with his back to the camera, while the second man is positioned slightly out of focus, facing him and appearing to be on the verge of drawing a gun. The background is dimly lit, with white walls and ceiling illuminated by fluorescent lights. In the distance, several people are visible, dressed in suits, adding to the tense atmosphere.\n",
      "\n",
      "The overall mood of the image is ominous, suggesting an intense confrontation or standoff between the two men. The setting appears to be a government office or meeting space, with a sense of urgency and tension emanating from their interaction.\n",
      "\n",
      "Overall, this image conveys a sense of importance and gravity, suggesting that the scene is set in a government building or office, possibly during a meeting or conversation. The dim lighting and the presence of other individuals create an air of tension and anticipation, hinting at a dramatic plot twist or intense confrontation unfolding behind the two men.\n",
      "\n",
      "The image effectively conveys a sense of tension and anticipation, with the men's posture suggesting a potentially intense or serious discussion. The setting is also dimly lit, adding to the sense of intensity and focus on their encounter.\n",
      "\n",
      "Overall, the image conveys a sense of tension and confrontation between the two men, with one appearing to be engaged in a conversation or sharing a humorous anecdote. The dim lighting and the presence of other individuals suggest a sense of intimacy and serious conversation, adding to the sense of tension.\n",
      "\n",
      "Overall, this image conveys a sense of importance and gravity, highlighting the significance of the scene unfolding before them. The presence of a humorous anecdote adds a touch of warmth and personality to the overall narrative.\n",
      "\n",
      "Overall, the image conveys a sense of importance and gravity, with the two men potentially engaged in a serious conversation or discussion. The dim lighting and formal attire create an atmosphere of tension, hinting at a dramatic plot twist or unexpected event unfolding between the two men.\n",
      "\n",
      "Overall, the image conveys a sense of tension and confrontation between the two men, adding to the sense of intimacy and seriousness. The dim lighting and formal att\n"
     ]
    }
   ],
   "source": [
    "from transformers import AutoTokenizer, AutoModelForCausalLM\n",
    "import torch\n",
    "\n",
    "# Fine-tuning된 모델과 토크나이저 로드\n",
    "tokenizer = AutoTokenizer.from_pretrained(model_path)\n",
    "model = AutoModelForCausalLM.from_pretrained(model_path)\n",
    "\n",
    "# 모델을 GPU로 이동 (옵션)\n",
    "device = torch.device(\"cuda\" if torch.cuda.is_available() else \"cpu\")\n",
    "model = model.to(device)\n",
    "\n",
    "# 입력 텍스트 : I need to get some grocery today.\n",
    "input_text = \"\"\"오늘 장을 좀 봐야겠어.. Generally when this conversation happeneing?.\n",
    "Answer: \"\"\"\n",
    "\n",
    "# 토큰화\n",
    "inputs = tokenizer(f\"Input: {input_text}\\nOutput:\", return_tensors=\"pt\")\n",
    "\n",
    "# 출력 생성\n",
    "outputs = model.generate(**inputs, max_length=512, do_sample=True, top_k=50, top_p=0.95)\n",
    "\n",
    "# 결과 디코딩\n",
    "output_text = tokenizer.decode(outputs[0], skip_special_tokens=True)\n",
    "print(output_text)"
   ]
  },
  {
   "cell_type": "code",
   "execution_count": null,
   "metadata": {},
   "outputs": [],
   "source": []
  }
 ],
 "metadata": {
  "kernelspec": {
   "display_name": "Python 3 (ipykernel)",
   "language": "python",
   "name": "python3"
  },
  "language_info": {
   "codemirror_mode": {
    "name": "ipython",
    "version": 3
   },
   "file_extension": ".py",
   "mimetype": "text/x-python",
   "name": "python",
   "nbconvert_exporter": "python",
   "pygments_lexer": "ipython3",
   "version": "3.11.6"
  }
 },
 "nbformat": 4,
 "nbformat_minor": 4
}
