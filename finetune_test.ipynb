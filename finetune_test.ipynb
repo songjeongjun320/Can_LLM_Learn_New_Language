{
 "cells": [
  {
   "cell_type": "code",
   "execution_count": 9,
   "metadata": {},
   "outputs": [
    {
     "name": "stdout",
     "output_type": "stream",
     "text": [
      "2.6.0+cu124\n",
      "True\n",
      "NVIDIA A100-SXM4-80GB\n"
     ]
    }
   ],
   "source": [
    "import torch\n",
    "print(torch.__version__)\n",
    "print(torch.cuda.is_available()) \n",
    "print(torch.cuda.get_device_name(0)) "
   ]
  },
  {
   "cell_type": "code",
   "execution_count": 10,
   "metadata": {},
   "outputs": [
    {
     "name": "stdout",
     "output_type": "stream",
     "text": [
      "/packages/apps/jupyter/2023-10-09/bin/python3.11\n"
     ]
    }
   ],
   "source": [
    "import sys\n",
    "print(sys.executable)"
   ]
  },
  {
   "cell_type": "code",
   "execution_count": 14,
   "metadata": {},
   "outputs": [
    {
     "ename": "ImportError",
     "evalue": "\nAutoModelForCausalLM requires the PyTorch library but it was not found in your environment. Checkout the instructions on the\ninstallation page: https://pytorch.org/get-started/locally/ and follow the ones that match your environment.\nPlease note that you may need to restart your runtime after installation.\n",
     "output_type": "error",
     "traceback": [
      "\u001b[0;31m---------------------------------------------------------------------------\u001b[0m",
      "\u001b[0;31mImportError\u001b[0m                               Traceback (most recent call last)",
      "Cell \u001b[0;32mIn[14], line 7\u001b[0m\n\u001b[1;32m      5\u001b[0m model_path \u001b[38;5;241m=\u001b[39m \u001b[38;5;124m\"\u001b[39m\u001b[38;5;124m./fine-tuned-models/fine-tuned-olmo-v10\u001b[39m\u001b[38;5;124m\"\u001b[39m\n\u001b[1;32m      6\u001b[0m tokenizer \u001b[38;5;241m=\u001b[39m AutoTokenizer\u001b[38;5;241m.\u001b[39mfrom_pretrained(model_path, trust_remote_code\u001b[38;5;241m=\u001b[39m\u001b[38;5;28;01mTrue\u001b[39;00m)\n\u001b[0;32m----> 7\u001b[0m model \u001b[38;5;241m=\u001b[39m \u001b[43mAutoModelForCausalLM\u001b[49m\u001b[38;5;241;43m.\u001b[39;49m\u001b[43mfrom_pretrained\u001b[49m(model_path, trust_remote_code\u001b[38;5;241m=\u001b[39m\u001b[38;5;28;01mTrue\u001b[39;00m)\n\u001b[1;32m      9\u001b[0m \u001b[38;5;66;03m# 모델을 GPU로 이동 (옵션)\u001b[39;00m\n\u001b[1;32m     10\u001b[0m device \u001b[38;5;241m=\u001b[39m torch\u001b[38;5;241m.\u001b[39mdevice(\u001b[38;5;124m\"\u001b[39m\u001b[38;5;124mcuda\u001b[39m\u001b[38;5;124m\"\u001b[39m \u001b[38;5;28;01mif\u001b[39;00m torch\u001b[38;5;241m.\u001b[39mcuda\u001b[38;5;241m.\u001b[39mis_available() \u001b[38;5;28;01melse\u001b[39;00m \u001b[38;5;124m\"\u001b[39m\u001b[38;5;124mcpu\u001b[39m\u001b[38;5;124m\"\u001b[39m)\n",
      "File \u001b[0;32m~/.local/lib/python3.11/site-packages/transformers/utils/import_utils.py:1736\u001b[0m, in \u001b[0;36mDummyObject.__getattribute__\u001b[0;34m(cls, key)\u001b[0m\n\u001b[1;32m   1734\u001b[0m \u001b[38;5;28;01mif\u001b[39;00m key\u001b[38;5;241m.\u001b[39mstartswith(\u001b[38;5;124m\"\u001b[39m\u001b[38;5;124m_\u001b[39m\u001b[38;5;124m\"\u001b[39m) \u001b[38;5;129;01mand\u001b[39;00m key \u001b[38;5;241m!=\u001b[39m \u001b[38;5;124m\"\u001b[39m\u001b[38;5;124m_from_config\u001b[39m\u001b[38;5;124m\"\u001b[39m:\n\u001b[1;32m   1735\u001b[0m     \u001b[38;5;28;01mreturn\u001b[39;00m \u001b[38;5;28msuper\u001b[39m()\u001b[38;5;241m.\u001b[39m\u001b[38;5;21m__getattribute__\u001b[39m(key)\n\u001b[0;32m-> 1736\u001b[0m \u001b[43mrequires_backends\u001b[49m\u001b[43m(\u001b[49m\u001b[38;5;28;43mcls\u001b[39;49m\u001b[43m,\u001b[49m\u001b[43m \u001b[49m\u001b[38;5;28;43mcls\u001b[39;49m\u001b[38;5;241;43m.\u001b[39;49m\u001b[43m_backends\u001b[49m\u001b[43m)\u001b[49m\n",
      "File \u001b[0;32m~/.local/lib/python3.11/site-packages/transformers/utils/import_utils.py:1724\u001b[0m, in \u001b[0;36mrequires_backends\u001b[0;34m(obj, backends)\u001b[0m\n\u001b[1;32m   1722\u001b[0m failed \u001b[38;5;241m=\u001b[39m [msg\u001b[38;5;241m.\u001b[39mformat(name) \u001b[38;5;28;01mfor\u001b[39;00m available, msg \u001b[38;5;129;01min\u001b[39;00m checks \u001b[38;5;28;01mif\u001b[39;00m \u001b[38;5;129;01mnot\u001b[39;00m available()]\n\u001b[1;32m   1723\u001b[0m \u001b[38;5;28;01mif\u001b[39;00m failed:\n\u001b[0;32m-> 1724\u001b[0m     \u001b[38;5;28;01mraise\u001b[39;00m \u001b[38;5;167;01mImportError\u001b[39;00m(\u001b[38;5;124m\"\u001b[39m\u001b[38;5;124m\"\u001b[39m\u001b[38;5;241m.\u001b[39mjoin(failed))\n",
      "\u001b[0;31mImportError\u001b[0m: \nAutoModelForCausalLM requires the PyTorch library but it was not found in your environment. Checkout the instructions on the\ninstallation page: https://pytorch.org/get-started/locally/ and follow the ones that match your environment.\nPlease note that you may need to restart your runtime after installation.\n"
     ]
    }
   ],
   "source": [
    "from transformers import AutoTokenizer, AutoModelForCausalLM\n",
    "import torch\n",
    "\n",
    "# Fine-tuning된 모델과 토크나이저 로드\n",
    "model_path = \"./fine-tuned-models/fine-tuned-olmo-v10\"\n",
    "tokenizer = AutoTokenizer.from_pretrained(model_path, trust_remote_code=True)\n",
    "model = AutoModelForCausalLM.from_pretrained(model_path, trust_remote_code=True)\n",
    "\n",
    "# 모델을 GPU로 이동 (옵션)\n",
    "device = torch.device(\"cuda\" if torch.cuda.is_available() else \"cpu\")\n",
    "model = model.to(device)\n",
    "\n",
    "# 입력 텍스트 : How was your today?\n",
    "input_text = \"\"\"오늘 하루 어땠니?. Generally when this conversation happeneing? Explain Simply.\n",
    "Answer: \"\"\"\n",
    "\n",
    "# 토큰화 (token_type_ids를 반환하지 않도록 설정)\n",
    "inputs = tokenizer(f\"Input: {input_text}\\nOutput:\", return_tensors=\"pt\", return_token_type_ids=False)\n",
    "\n",
    "# 입력 데이터를 모델과 동일한 디바이스로 이동\n",
    "inputs = {key: value.to(device) for key, value in inputs.items()}\n",
    "\n",
    "# 출력 생성\n",
    "outputs = model.generate(**inputs, max_length=512, do_sample=True, top_k=50, top_p=0.95)\n",
    "\n",
    "# 결과 디코딩\n",
    "output_text = tokenizer.decode(outputs[0], skip_special_tokens=True)\n",
    "print(output_text)"
   ]
  },
  {
   "cell_type": "code",
   "execution_count": null,
   "metadata": {},
   "outputs": [
    {
     "data": {
      "application/vnd.jupyter.widget-view+json": {
       "model_id": "ef1d282140014f2b8765c6428c22154c",
       "version_major": 2,
       "version_minor": 0
      },
      "text/plain": [
       "Loading checkpoint shards:   0%|          | 0/3 [00:00<?, ?it/s]"
      ]
     },
     "metadata": {},
     "output_type": "display_data"
    }
   ],
   "source": [
    "from transformers import AutoTokenizer, AutoModelForCausalLM\n",
    "import torch\n",
    "\n",
    "# Fine-tuning된 모델과 토크나이저 로드\n",
    "model_path = \"./fine-tuned-models/fine-tuned-olmo-v10\"\n",
    "tokenizer = AutoTokenizer.from_pretrained(model_path, trust_remote_code=True)\n",
    "model = AutoModelForCausalLM.from_pretrained(model_path, trust_remote_code=True)\n",
    "\n",
    "# 모델을 GPU로 이동 (옵션)\n",
    "device = torch.device(\"cuda\" if torch.cuda.is_available() else \"cpu\")\n",
    "model = model.to(device)\n",
    "\n",
    "# 입력 텍스트 : Hello my name is Jun.\n",
    "input_text = \"\"\"안녕 내 이름은 준이야.. Generally when this conversation happeneing? Explain Simply.\n",
    "Answer: \"\"\"\n",
    "\n",
    "# 토큰화 (token_type_ids를 반환하지 않도록 설정)\n",
    "inputs = tokenizer(f\"Input: {input_text}\\nOutput:\", return_tensors=\"pt\", return_token_type_ids=False)\n",
    "\n",
    "# 입력 데이터를 모델과 동일한 디바이스로 이동\n",
    "inputs = {key: value.to(device) for key, value in inputs.items()}\n",
    "\n",
    "# 출력 생성\n",
    "outputs = model.generate(**inputs, max_length=512, do_sample=True, top_k=50, top_p=0.95)\n",
    "\n",
    "# 결과 디코딩\n",
    "output_text = tokenizer.decode(outputs[0], skip_special_tokens=True)\n",
    "print(output_text)"
   ]
  },
  {
   "cell_type": "code",
   "execution_count": null,
   "metadata": {},
   "outputs": [],
   "source": [
    "from transformers import AutoTokenizer, AutoModelForCausalLM\n",
    "import torch\n",
    "\n",
    "# Fine-tuning된 모델과 토크나이저 로드\n",
    "tokenizer = AutoTokenizer.from_pretrained(model_path, trust_remote_code=True)\n",
    "model = AutoModelForCausalLM.from_pretrained(model_path, trust_remote_code=True)\n",
    "\n",
    "# 모델을 GPU로 이동 (옵션)\n",
    "device = torch.device(\"cuda\" if torch.cuda.is_available() else \"cpu\")\n",
    "model = model.to(device)\n",
    "\n",
    "# 입력 텍스트 : I need to get some grocery today.\n",
    "input_text = \"\"\"오늘 장을 좀 봐야겠어.. Generally when this conversation happeneing? Explain Simply.\n",
    "Answer: \"\"\"\n",
    "\n",
    "# 토큰화 (token_type_ids를 반환하지 않도록 설정)\n",
    "inputs = tokenizer(f\"Input: {input_text}\\nOutput:\", return_tensors=\"pt\", return_token_type_ids=False)\n",
    "\n",
    "# 입력 데이터를 모델과 동일한 디바이스로 이동\n",
    "inputs = {key: value.to(device) for key, value in inputs.items()}\n",
    "\n",
    "# 출력 생성\n",
    "outputs = model.generate(**inputs, max_length=512, do_sample=True, top_k=50, top_p=0.95)\n",
    "\n",
    "# 결과 디코딩\n",
    "output_text = tokenizer.decode(outputs[0], skip_special_tokens=True)\n",
    "print(output_text)"
   ]
  },
  {
   "cell_type": "code",
   "execution_count": null,
   "metadata": {},
   "outputs": [],
   "source": [
    "from transformers import AutoTokenizer, AutoModelForCausalLM\n",
    "import torch\n",
    "\n",
    "# Fine-tuning된 모델과 토크나이저 로드\n",
    "tokenizer = AutoTokenizer.from_pretrained(model_path, trust_remote_code=True)\n",
    "model = AutoModelForCausalLM.from_pretrained(model_path, trust_remote_code=True)\n",
    "\n",
    "# 모델을 GPU로 이동 (옵션)\n",
    "device = torch.device(\"cuda\" if torch.cuda.is_available() else \"cpu\")\n",
    "model = model.to(device)\n",
    "\n",
    "# 입력 텍스트 : I need to get some grocery today.\n",
    "input_text = \"\"\"인천항야적장에물건만잘전달해주세요. Generally when this conversation happeneing? Explain Simply.\n",
    "Answer: \"\"\"\n",
    "\n",
    "# 토큰화 (token_type_ids를 반환하지 않도록 설정)\n",
    "inputs = tokenizer(f\"Input: {input_text}\\nOutput:\", return_tensors=\"pt\", return_token_type_ids=False)\n",
    "\n",
    "# 입력 데이터를 모델과 동일한 디바이스로 이동\n",
    "inputs = {key: value.to(device) for key, value in inputs.items()}\n",
    "\n",
    "# 출력 생성\n",
    "outputs = model.generate(**inputs, max_length=512, do_sample=True, top_k=50, top_p=0.95)\n",
    "\n",
    "# 결과 디코딩\n",
    "output_text = tokenizer.decode(outputs[0], skip_special_tokens=True)\n",
    "print(output_text)"
   ]
  },
  {
   "cell_type": "code",
   "execution_count": null,
   "metadata": {},
   "outputs": [],
   "source": [
    "from transformers import AutoTokenizer, AutoModelForCausalLM\n",
    "import torch\n",
    "\n",
    "# Fine-tuning된 모델과 토크나이저 로드\n",
    "tokenizer = AutoTokenizer.from_pretrained(model_path, trust_remote_code=True)\n",
    "model = AutoModelForCausalLM.from_pretrained(model_path, trust_remote_code=True)\n",
    "\n",
    "# 모델을 GPU로 이동 (옵션)\n",
    "device = torch.device(\"cuda\" if torch.cuda.is_available() else \"cpu\")\n",
    "model = model.to(device)\n",
    "\n",
    "# 입력 텍스트 : I need to get some grocery today.\n",
    "input_text = \"\"\"아차너무막힌다. Generally when this conversation happeneing? Explain Simply.\n",
    "Answer: \"\"\"\n",
    "\n",
    "# 토큰화 (token_type_ids를 반환하지 않도록 설정)\n",
    "inputs = tokenizer(f\"Input: {input_text}\\nOutput:\", return_tensors=\"pt\", return_token_type_ids=False)\n",
    "\n",
    "# 입력 데이터를 모델과 동일한 디바이스로 이동\n",
    "inputs = {key: value.to(device) for key, value in inputs.items()}\n",
    "\n",
    "# 출력 생성\n",
    "outputs = model.generate(**inputs, max_length=512, do_sample=True, top_k=50, top_p=0.95)\n",
    "\n",
    "# 결과 디코딩\n",
    "output_text = tokenizer.decode(outputs[0], skip_special_tokens=True)\n",
    "print(output_text)"
   ]
  },
  {
   "cell_type": "code",
   "execution_count": null,
   "metadata": {},
   "outputs": [],
   "source": [
    "from transformers import AutoTokenizer, AutoModelForCausalLM\n",
    "import torch\n",
    "\n",
    "# Fine-tuning된 모델과 토크나이저 로드\n",
    "tokenizer = AutoTokenizer.from_pretrained(model_path, trust_remote_code=True)\n",
    "model = AutoModelForCausalLM.from_pretrained(model_path, trust_remote_code=True)\n",
    "\n",
    "# 모델을 GPU로 이동 (옵션)\n",
    "device = torch.device(\"cuda\" if torch.cuda.is_available() else \"cpu\")\n",
    "model = model.to(device)\n",
    "\n",
    "# 입력 텍스트 : I need to get some grocery today.\n",
    "input_text = \"\"\"아니이봐요아이씨. Generally when this conversation happeneing? Explain Simply.\n",
    "Answer: \"\"\"\n",
    "\n",
    "# 토큰화 (token_type_ids를 반환하지 않도록 설정)\n",
    "inputs = tokenizer(f\"Input: {input_text}\\nOutput:\", return_tensors=\"pt\", return_token_type_ids=False)\n",
    "\n",
    "# 입력 데이터를 모델과 동일한 디바이스로 이동\n",
    "inputs = {key: value.to(device) for key, value in inputs.items()}\n",
    "\n",
    "# 출력 생성\n",
    "outputs = model.generate(**inputs, max_length=512, do_sample=True, top_k=50, top_p=0.95)\n",
    "\n",
    "# 결과 디코딩\n",
    "output_text = tokenizer.decode(outputs[0], skip_special_tokens=True)\n",
    "print(output_text)"
   ]
  },
  {
   "cell_type": "code",
   "execution_count": null,
   "metadata": {},
   "outputs": [],
   "source": [
    "from transformers import AutoTokenizer, AutoModelForCausalLM\n",
    "import torch\n",
    "\n",
    "# Fine-tuning된 모델과 토크나이저 로드\n",
    "tokenizer = AutoTokenizer.from_pretrained(model_path, trust_remote_code=True)\n",
    "model = AutoModelForCausalLM.from_pretrained(model_path, trust_remote_code=True)\n",
    "\n",
    "# 모델을 GPU로 이동 (옵션)\n",
    "device = torch.device(\"cuda\" if torch.cuda.is_available() else \"cpu\")\n",
    "model = model.to(device)\n",
    "\n",
    "# 입력 텍스트 : I need to get some grocery today.\n",
    "input_text = \"\"\"저괜찮으세요많이안다치셨어요. Generally when this conversation happeneing? Explain Simply.\n",
    "Answer: \"\"\"\n",
    "\n",
    "# 토큰화 (token_type_ids를 반환하지 않도록 설정)\n",
    "inputs = tokenizer(f\"Input: {input_text}\\nOutput:\", return_tensors=\"pt\", return_token_type_ids=False)\n",
    "\n",
    "# 입력 데이터를 모델과 동일한 디바이스로 이동\n",
    "inputs = {key: value.to(device) for key, value in inputs.items()}\n",
    "\n",
    "# 출력 생성\n",
    "outputs = model.generate(**inputs, max_length=512, do_sample=True, top_k=50, top_p=0.95)\n",
    "\n",
    "# 결과 디코딩\n",
    "output_text = tokenizer.decode(outputs[0], skip_special_tokens=True)\n",
    "print(output_text)"
   ]
  },
  {
   "cell_type": "code",
   "execution_count": null,
   "metadata": {},
   "outputs": [],
   "source": []
  },
  {
   "cell_type": "code",
   "execution_count": null,
   "metadata": {},
   "outputs": [],
   "source": []
  },
  {
   "cell_type": "code",
   "execution_count": null,
   "metadata": {},
   "outputs": [],
   "source": []
  },
  {
   "cell_type": "code",
   "execution_count": null,
   "metadata": {},
   "outputs": [],
   "source": []
  }
 ],
 "metadata": {
  "kernelspec": {
   "display_name": "Python 3 (ipykernel)",
   "language": "python",
   "name": "python3"
  },
  "language_info": {
   "codemirror_mode": {
    "name": "ipython",
    "version": 3
   },
   "file_extension": ".py",
   "mimetype": "text/x-python",
   "name": "python",
   "nbconvert_exporter": "python",
   "pygments_lexer": "ipython3",
   "version": "3.11.6"
  }
 },
 "nbformat": 4,
 "nbformat_minor": 4
}
