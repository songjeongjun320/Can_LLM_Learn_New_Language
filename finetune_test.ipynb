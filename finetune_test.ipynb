{
 "cells": [
  {
   "cell_type": "code",
   "execution_count": 2,
   "metadata": {},
   "outputs": [
    {
     "data": {
      "application/vnd.jupyter.widget-view+json": {
       "model_id": "ccbfbf27b7d34eb789ae26a572a7fdd6",
       "version_major": 2,
       "version_minor": 0
      },
      "text/plain": [
       "Loading checkpoint shards:   0%|          | 0/3 [00:00<?, ?it/s]"
      ]
     },
     "metadata": {},
     "output_type": "display_data"
    },
    {
     "name": "stdout",
     "output_type": "stream",
     "text": [
      "Input: 오늘 하루 어땠니?. Generally when this conversation happeneing?.\n",
      "Answer: \n",
      "Output: Based on the dim lighting and the woman's expression, it appears that a serious or intense conversation is taking place between two people. The dark atmosphere suggests that the setting may be private or secluded, which could indicate that the discussion is personal or sensitive in nature.\n",
      "\n",
      "**Key Observations:**\n",
      "\n",
      "*   **Dim Lighting:** The dim lighting contributes to an overall somber mood.\n",
      "*   **Serious Expressions:** Both individuals involved in the conversation show serious facial expressions, suggesting that the topic at hand is important or potentially contentious.\n",
      "*   **Private Setting:** The private setting implies that the discussion is personal and not meant for public consumption.\n",
      "\n",
      "**Inference:**\n",
      "\n",
      "Given these observations, it can be inferred that the conversation is likely about something significant or emotionally charged. The seriousness of their expressions and the dim lighting create an atmosphere conducive to a deep and meaningful discussion. Overall, the scene suggests a private and potentially emotional exchange between two individuals.\n",
      "\n",
      "**Conclusion:**\n",
      "\n",
      "Based on the visual cues provided by their facial expressions and the somber setting, it appears that a serious or intense conversation is taking place between two people. The private nature of the discussion implies that the topic at hand is personal and not meant for public consumption. Overall, the scene suggests a private and potentially emotional exchange between two individuals.\n",
      "\n",
      "**Key Elements:**\n",
      "\n",
      "*   **Dim Lighting:** The dim lighting contributes to an overall somber mood.\n",
      "*   **Serious Expressions:** Both individuals involved in the conversation show serious facial expressions, suggesting that the topic at hand is important or potentially contentious.\n",
      "*   **Private Setting:** The private setting implies that the discussion is personal and not meant for public consumption.\n",
      "\n",
      "**Inference:**\n",
      "\n",
      "Given these observations, it can be inferred that the conversation is likely about something significant or emotionally charged. The seriousness of their expressions and the dim lighting create an atmosphere conducive to a deep and meaningful discussion. Overall, the scene suggests a private and potentially emotional exchange between two individuals.\n",
      "\n",
      "**Conclusion:**\n",
      "\n",
      "Based on the visual cues provided by their facial expressions and the somber setting, it appears that a serious or intense conversation is taking place between two people. The private nature of the discussion implies that the topic at hand is personal and not meant for public consumption\n"
     ]
    }
   ],
   "source": [
    "from transformers import AutoTokenizer, AutoModelForCausalLM\n",
    "import torch\n",
    "\n",
    "# Fine-tuning된 모델과 토크나이저 로드\n",
    "model_path = \"./fine-tuned-olmo-v4\"\n",
    "tokenizer = AutoTokenizer.from_pretrained(model_path)\n",
    "model = AutoModelForCausalLM.from_pretrained(model_path)\n",
    "\n",
    "# 모델을 GPU로 이동 (옵션)\n",
    "device = torch.device(\"cuda\" if torch.cuda.is_available() else \"cpu\")\n",
    "model = model.to(device)\n",
    "\n",
    "# 입력 텍스트 : How was your today?\n",
    "input_text = \"\"\"오늘 하루 어땠니?. Generally when this conversation happeneing?.\n",
    "Answer: \"\"\"\n",
    "\n",
    "# 토큰화\n",
    "inputs = tokenizer(f\"Input: {input_text}\\nOutput:\", return_tensors=\"pt\")\n",
    "\n",
    "# 출력 생성\n",
    "outputs = model.generate(**inputs, max_length=512, do_sample=True, top_k=50, top_p=0.95)\n",
    "\n",
    "# 결과 디코딩\n",
    "output_text = tokenizer.decode(outputs[0], skip_special_tokens=True)\n",
    "print(output_text)"
   ]
  },
  {
   "cell_type": "code",
   "execution_count": 3,
   "metadata": {},
   "outputs": [
    {
     "data": {
      "application/vnd.jupyter.widget-view+json": {
       "model_id": "5e586f11898343bc80486e50ddc97105",
       "version_major": 2,
       "version_minor": 0
      },
      "text/plain": [
       "Loading checkpoint shards:   0%|          | 0/3 [00:00<?, ?it/s]"
      ]
     },
     "metadata": {},
     "output_type": "display_data"
    },
    {
     "name": "stdout",
     "output_type": "stream",
     "text": [
      "Input: 안녕 내 이름은 준이야.. Generally when this conversation happeneing?.\n",
      "Answer: \n",
      "Output: This conversation is happening on circumstance which depicts a scene from the TV show \"House of Cards,\" specifically featuring Frank Underwood (Kevin Spacey), sitting on a couch in a dimly lit room. The atmosphere suggests a serious and intense conversation is underway, possibly related to political strategy or deal-making.\n",
      "\n",
      "**Key Elements:**\n",
      "\n",
      "* **Frank Underwood:** Seated on a couch, facing away from the camera.\n",
      "* **Dim Lighting:** The room is poorly lit, creating an ominous ambiance.\n",
      "* **Serious Expression:** Frank's facial expression conveys a sense of gravity and focus.\n",
      "\n",
      "**Inference:**\n",
      "\n",
      "Given these elements, it can be inferred that the conversation taking place is likely related to a significant political maneuver or deal-making. The serious tone and intense body language suggest that the stakes are high, and the outcome may have significant consequences for Frank and those involved. Overall, This conversation is happening on circumstance which portrays a tense and dramatic moment in the story, highlighting Frank's cunning and strategic nature as he navigates the complex world of politics.\n",
      "\n",
      "**Conclusion:**\n",
      "\n",
      "Based on the visual cues, it appears that the conversation happening on this scene is likely related to a high-stakes political discussion or negotiation, with Frank Underwood at the center of attention. The dim lighting and serious tone suggest an atmosphere of tension and intensity, implying that the outcome has significant consequences for those involved. Overall, This conversation is happening on circumstance which portrays a critical moment in the story where Frank must use his cunning and strategic nature to achieve his goals.\n",
      "\n",
      "**Overall Impression:**\n",
      "\n",
      "This conversation is happening on circumstance which leaves behind a lasting impression of Frank's cunning and strategic abilities, highlighting his intelligence and political maneuverability. The dim lighting and serious tone suggest an atmosphere of tension and intensity, implying that the outcome has significant consequences for those involved. Overall, This conversation is happening on circumstance which portrays a critical moment in the story where Frank must use his cunning and strategic nature to achieve his goals.\n",
      "\n",
      "**Key Elements:**\n",
      "\n",
      "* **Frank Underwood:** Seated on a couch, facing away from the camera.\n",
      "* **Dim Lighting:** The room is poorly lit, creating an ominous ambiance.\n",
      "* **Serious Expression:** Frank\n"
     ]
    }
   ],
   "source": [
    "from transformers import AutoTokenizer, AutoModelForCausalLM\n",
    "import torch\n",
    "\n",
    "# Fine-tuning된 모델과 토크나이저 로드\n",
    "model_path = \"./fine-tuned-olmo-v4\"\n",
    "tokenizer = AutoTokenizer.from_pretrained(model_path)\n",
    "model = AutoModelForCausalLM.from_pretrained(model_path)\n",
    "\n",
    "# 모델을 GPU로 이동 (옵션)\n",
    "device = torch.device(\"cuda\" if torch.cuda.is_available() else \"cpu\")\n",
    "model = model.to(device)\n",
    "\n",
    "# 입력 텍스트 : Hello my name is Jun.\n",
    "input_text = \"\"\"안녕 내 이름은 준이야.. Generally when this conversation happeneing?.\n",
    "Answer: \"\"\"\n",
    "\n",
    "# 토큰화\n",
    "inputs = tokenizer(f\"Input: {input_text}\\nOutput:\", return_tensors=\"pt\")\n",
    "\n",
    "# 출력 생성\n",
    "outputs = model.generate(**inputs, max_length=512, do_sample=True, top_k=50, top_p=0.95)\n",
    "\n",
    "# 결과 디코딩\n",
    "output_text = tokenizer.decode(outputs[0], skip_special_tokens=True)\n",
    "print(output_text)"
   ]
  },
  {
   "cell_type": "code",
   "execution_count": 4,
   "metadata": {},
   "outputs": [
    {
     "data": {
      "application/vnd.jupyter.widget-view+json": {
       "model_id": "5d67c56cb9c646e6b52a9351c0183a42",
       "version_major": 2,
       "version_minor": 0
      },
      "text/plain": [
       "Loading checkpoint shards:   0%|          | 0/3 [00:00<?, ?it/s]"
      ]
     },
     "metadata": {},
     "output_type": "display_data"
    },
    {
     "name": "stdout",
     "output_type": "stream",
     "text": [
      "Input: 오늘 장을 좀 봐야겠어.. Generally when this conversation happeneing?.\n",
      "Answer: \n",
      "Output: This conversation is happening on circumstance which depicts a scene from the Netflix series \"House of Cards,\" featuring Kevin Spacey as Frank Underwood and Robin Wright as Claire Underwood. The atmosphere appears tense, with both characters displaying serious expressions.\n",
      "\n",
      "**Key Elements:**\n",
      "\n",
      "*   **Facial Expressions:** Both Frank and Claire have stern faces, indicating that they are engaged in a heated discussion.\n",
      "*   **Body Language:** Their postures suggest discomfort or defensiveness, implying that the conversation may be about something sensitive or personal.\n",
      "*   **Setting:** The dimly lit room with dark walls and furniture creates an ominous ambiance, adding to the tension in the scene.\n",
      "\n",
      "**Inference:**\n",
      "\n",
      "Given these elements, it can be inferred that Frank and Claire are having a serious and possibly intense conversation about something important. The seriousness of their expressions and body language suggests that the topic may be sensitive or personal, and the dim lighting adds to the overall sense of gravity and intensity in the scene. Overall, This conversation is happening on circumstance which conveys a sense of tension and urgency, implying that the conversation has significant consequences for the characters involved.\n",
      "\n",
      "**Conclusion:**\n",
      "\n",
      "Based on the visual cues provided by This conversation is happening on circumstance which, it is reasonable to conclude that Frank and Claire Underwood are engaged in a serious and potentially contentious conversation about something significant. The atmosphere is ominous and foreboding, suggesting that the outcome of this conversation will have far-reaching implications for the characters involved. Overall, This conversation is happening on circumstance which conveys a sense of tension and urgency, implying that the conversation has significant consequences for the characters involved.\n",
      "\n",
      "**Key Elements:**\n",
      "\n",
      "*   **Facial Expressions:** Both Frank and Claire have stern faces, indicating that they are engaged in a heated discussion.\n",
      "*   **Body Language:** Their postures suggest discomfort or defensiveness, implying that the conversation may be about something sensitive or personal.\n",
      "*   **Setting:** The dimly lit room with dark walls and furniture creates an ominous ambiance, adding to the tension in the scene.\n",
      "\n",
      "**Inference:**\n",
      "\n",
      "Given these elements, it can be inferred that Frank and Claire Underwood are having a serious and possibly intense conversation about something important. The seriousness\n"
     ]
    }
   ],
   "source": [
    "from transformers import AutoTokenizer, AutoModelForCausalLM\n",
    "import torch\n",
    "\n",
    "# Fine-tuning된 모델과 토크나이저 로드\n",
    "model_path = \"./fine-tuned-olmo-v4\"\n",
    "tokenizer = AutoTokenizer.from_pretrained(model_path)\n",
    "model = AutoModelForCausalLM.from_pretrained(model_path)\n",
    "\n",
    "# 모델을 GPU로 이동 (옵션)\n",
    "device = torch.device(\"cuda\" if torch.cuda.is_available() else \"cpu\")\n",
    "model = model.to(device)\n",
    "\n",
    "# 입력 텍스트 : I need to get some grocery today.\n",
    "input_text = \"\"\"오늘 장을 좀 봐야겠어.. Generally when this conversation happeneing?.\n",
    "Answer: \"\"\"\n",
    "\n",
    "# 토큰화\n",
    "inputs = tokenizer(f\"Input: {input_text}\\nOutput:\", return_tensors=\"pt\")\n",
    "\n",
    "# 출력 생성\n",
    "outputs = model.generate(**inputs, max_length=512, do_sample=True, top_k=50, top_p=0.95)\n",
    "\n",
    "# 결과 디코딩\n",
    "output_text = tokenizer.decode(outputs[0], skip_special_tokens=True)\n",
    "print(output_text)"
   ]
  },
  {
   "cell_type": "code",
   "execution_count": null,
   "metadata": {},
   "outputs": [],
   "source": [
    "# From HF\n",
    "from transformers import AutoModelForCausalLM, AutoTokenizer\n",
    "import torch\n",
    "\n",
    "# 모델 & 토크나이저 로드 (OLMo는 trust_remote_code 필요)\n",
    "model = AutoModelForCausalLM.from_pretrained(\n",
    "    \"allenai/OLMoE-1B-7B-0924\",\n",
    "    trust_remote_code=True,\n",
    ")\n",
    "tokenizer = AutoTokenizer.from_pretrained(\"allenai/OLMoE-1B-7B-0924\")\n",
    "\n",
    "# 추론 파라미터 설정\n",
    "question = \"\"\"안녕 혹시 한국말 할 줄 아니?,\n",
    "Answer:\"\"\"\n",
    "\n",
    "inputs = tokenizer(\n",
    "    question,\n",
    "    return_tensors=\"pt\",\n",
    "    max_length=256,\n",
    "    truncation=True\n",
    ")\n",
    "\n",
    "# 생성 설정\n",
    "outputs = model.generate(\n",
    "    inputs.input_ids.to(model.device),\n",
    "    max_new_tokens=150,\n",
    "    temperature=0.3,  # 창의성 ↓ → 논리적 답변 ↑\n",
    "    top_p=0.95,\n",
    "    do_sample=True,\n",
    "    pad_token_id=tokenizer.eos_token_id  # OLMo 토크나이저 이슈 방지\n",
    ")\n",
    "\n",
    "# 결과 디코딩\n",
    "answer = tokenizer.decode(outputs[0], skip_special_tokens=True)\n",
    "print(answer)"
   ]
  },
  {
   "cell_type": "code",
   "execution_count": null,
   "metadata": {},
   "outputs": [],
   "source": []
  }
 ],
 "metadata": {
  "kernelspec": {
   "display_name": "Python 3 (ipykernel)",
   "language": "python",
   "name": "python3"
  },
  "language_info": {
   "codemirror_mode": {
    "name": "ipython",
    "version": 3
   },
   "file_extension": ".py",
   "mimetype": "text/x-python",
   "name": "python",
   "nbconvert_exporter": "python",
   "pygments_lexer": "ipython3",
   "version": "3.11.6"
  }
 },
 "nbformat": 4,
 "nbformat_minor": 4
}
