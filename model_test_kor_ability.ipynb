{
 "cells": [
  {
   "cell_type": "code",
   "execution_count": 15,
   "metadata": {},
   "outputs": [
    {
     "name": "stdout",
     "output_type": "stream",
     "text": [
      "안녕 혹시 한국말 할 줄 아니?,\n",
      "Answer: 한국말 할 줄 아니?\n",
      "Question: 한국말 할 줄 아니?\n",
      "Answer: 한국말 할 줄 아니?\n",
      "Question: 한국말 할 줄 아니?\n",
      "Answer: 한국말 할 줄 아니?\n",
      "Question: 한국말 할 줄 아니?\n",
      "Answer: 한국말 할 줄 아니?\n",
      "Question: 한국말 할\n"
     ]
    }
   ],
   "source": [
    "# Base model's Korean ability checking\n",
    "from transformers import AutoModelForCausalLM, AutoTokenizer\n",
    "import torch\n",
    "\n",
    "model = \"allenai/OLMo-1B\"\n",
    "# \"allenai/OLMoE-1B-7B-0924\" -> It has ability to speak Korean\n",
    "# \"allenai/OLMo-1B-hf\" -> It seems has ability to speak Korean data\n",
    "# \"allenai/OLMo-7B-hf\" -> It seems has ability to speak Korean data\n",
    "# \"allenai/OLMo-7B\" -> \n",
    "# \"allenai/OLMo-1B\" -> \n",
    "\n",
    "# 모델 & 토크나이저 로드 (OLMo는 trust_remote_code 필요)\n",
    "tokenizer = AutoTokenizer.from_pretrained(model)\n",
    "model = AutoModelForCausalLM.from_pretrained(model)\n",
    "\n",
    "# 추론 파라미터 설정\n",
    "question = \"\"\"안녕 혹시 한국말 할 줄 아니?,\n",
    "Answer:\"\"\"\n",
    "\n",
    "inputs = tokenizer(\n",
    "    question,\n",
    "    return_tensors=\"pt\",\n",
    "    max_length=256,\n",
    "    truncation=True\n",
    ")\n",
    "\n",
    "# 생성 설정\n",
    "outputs = model.generate(\n",
    "    inputs.input_ids.to(model.device),\n",
    "    max_new_tokens=150,\n",
    "    temperature=0.3,  # 창의성 ↓ → 논리적 답변 ↑\n",
    "    top_p=0.95,\n",
    "    do_sample=True,\n",
    "    pad_token_id=tokenizer.eos_token_id  # OLMo 토크나이저 이슈 방지\n",
    ")\n",
    "\n",
    "# 결과 디코딩\n",
    "answer = tokenizer.decode(outputs[0], skip_special_tokens=True)\n",
    "print(answer)"
   ]
  },
  {
   "cell_type": "code",
   "execution_count": 16,
   "metadata": {},
   "outputs": [
    {
     "name": "stdout",
     "output_type": "stream",
     "text": [
      "오늘 하루 어땠니?. Generally when this conversation happeneing? Explain Simply.\n",
      "Answer: 하루 어땠니.\n",
      "Answer: 너무 좋아요.\n",
      "Answer: 어디에요?\n",
      "Answer: 어디에요?\n",
      "Answer: 어디에요?\n",
      "Answer: 어디에요?\n",
      "Answer: 어디에요?\n",
      "Answer: 어디에요?\n",
      "Answer: 어디에요?\n",
      "Answer: 어디에요?\n",
      "Answer: 어디에요?\n",
      "Answer: 어디에요?\n",
      "Answer: 어디에요?\n",
      "Answer\n"
     ]
    }
   ],
   "source": [
    "# Base model's Korean ability checking\n",
    "from transformers import AutoModelForCausalLM, AutoTokenizer\n",
    "import torch\n",
    "\n",
    "# 추론 파라미터 설정\n",
    "question = \"\"\"오늘 하루 어땠니?. Generally when this conversation happeneing? Explain Simply.\n",
    "Answer: \"\"\"\n",
    "\n",
    "inputs = tokenizer(\n",
    "    question,\n",
    "    return_tensors=\"pt\",\n",
    "    max_length=256,\n",
    "    truncation=True\n",
    ")\n",
    "\n",
    "# 생성 설정\n",
    "outputs = model.generate(\n",
    "    inputs.input_ids.to(model.device),\n",
    "    max_new_tokens=150,\n",
    "    temperature=0.3,  # 창의성 ↓ → 논리적 답변 ↑\n",
    "    top_p=0.95,\n",
    "    do_sample=True,\n",
    "    pad_token_id=tokenizer.eos_token_id  # OLMo 토크나이저 이슈 방지\n",
    ")\n",
    "\n",
    "# 결과 디코딩\n",
    "answer = tokenizer.decode(outputs[0], skip_special_tokens=True)\n",
    "print(answer)"
   ]
  },
  {
   "cell_type": "code",
   "execution_count": 17,
   "metadata": {},
   "outputs": [
    {
     "name": "stdout",
     "output_type": "stream",
     "text": [
      "안녕 내 이름은 준이야.. Generally when this conversation happeneing? Explain Simply.\n",
      "Answer: 한국어 준이야..\n",
      "Answer: 한국어 준이야..\n",
      "Answer: 한국어 준이야..\n",
      "Answer: 한국어 준이야..\n",
      "Answer: 한국어 준이야..\n",
      "Answer: 한국어 준이야..\n",
      "Answer: 한국어 준이야..\n",
      "Answer: 한국어 준이야..\n",
      "Answer: 한국어 준이야..\n",
      "Answer: 한국어 �\n"
     ]
    }
   ],
   "source": [
    "# Base model's Korean ability checking\n",
    "from transformers import AutoModelForCausalLM, AutoTokenizer\n",
    "import torch\n",
    "\n",
    "# 추론 파라미터 설정\n",
    "question =  \"\"\"안녕 내 이름은 준이야.. Generally when this conversation happeneing? Explain Simply.\n",
    "Answer: \"\"\"\n",
    "\n",
    "inputs = tokenizer(\n",
    "    question,\n",
    "    return_tensors=\"pt\",\n",
    "    max_length=256,\n",
    "    truncation=True\n",
    ")\n",
    "\n",
    "# 생성 설정\n",
    "outputs = model.generate(\n",
    "    inputs.input_ids.to(model.device),\n",
    "    max_new_tokens=150,\n",
    "    temperature=0.3,  # 창의성 ↓ → 논리적 답변 ↑\n",
    "    top_p=0.95,\n",
    "    do_sample=True,\n",
    "    pad_token_id=tokenizer.eos_token_id  # OLMo 토크나이저 이슈 방지\n",
    ")\n",
    "\n",
    "# 결과 디코딩\n",
    "answer = tokenizer.decode(outputs[0], skip_special_tokens=True)\n",
    "print(answer)"
   ]
  },
  {
   "cell_type": "code",
   "execution_count": 18,
   "metadata": {},
   "outputs": [
    {
     "name": "stdout",
     "output_type": "stream",
     "text": [
      "오늘 장을 좀 봐야겠어.. Generally when this conversation happeneing? Explain Simply.\n",
      "Answer: ㅋㅋㅋㅋㅋㅋㅋㅋㅋㅋㅋㅋㅋㅋㅋㅋㅋㅋㅋㅋㅋㅋㅋㅋㅋㅋㅋㅋㅋㅋㅋㅋㅋㅋㅋㅋㅋㅋㅋㅋㅋㅋㅋㅋㅋㅋㅋㅋㅋㅋ\n"
     ]
    }
   ],
   "source": [
    "# Base model's Korean ability checking\n",
    "from transformers import AutoModelForCausalLM, AutoTokenizer\n",
    "import torch\n",
    "\n",
    "# 추론 파라미터 설정\n",
    "question = \"\"\"오늘 장을 좀 봐야겠어.. Generally when this conversation happeneing? Explain Simply.\n",
    "Answer: \"\"\"\n",
    "\n",
    "inputs = tokenizer(\n",
    "    question,\n",
    "    return_tensors=\"pt\",\n",
    "    max_length=256,\n",
    "    truncation=True\n",
    ")\n",
    "\n",
    "# 생성 설정\n",
    "outputs = model.generate(\n",
    "    inputs.input_ids.to(model.device),\n",
    "    max_new_tokens=150,\n",
    "    temperature=0.3,  # 창의성 ↓ → 논리적 답변 ↑\n",
    "    top_p=0.95,\n",
    "    do_sample=True,\n",
    "    pad_token_id=tokenizer.eos_token_id  # OLMo 토크나이저 이슈 방지\n",
    ")\n",
    "\n",
    "# 결과 디코딩\n",
    "answer = tokenizer.decode(outputs[0], skip_special_tokens=True)\n",
    "print(answer)"
   ]
  },
  {
   "cell_type": "code",
   "execution_count": 19,
   "metadata": {},
   "outputs": [
    {
     "name": "stdout",
     "output_type": "stream",
     "text": [
      "인천항야적장에물건만잘전달해주세요. Generally when this conversation happeneing? Explain Simply.\n",
      "Answer: 하루만 내가 생각하는것이 좋아요.\n",
      "Answer: 하루만 내가 생각하는것이 좋아요.\n",
      "Answer: 하루만 내가 생각하는것이 좋아요.\n",
      "Answer: 하루만 내가 생각하는것이 좋아요.\n",
      "Answer: 하루만 내가 생각하는것이 좋아요\n"
     ]
    }
   ],
   "source": [
    "# Base model's Korean ability checking\n",
    "from transformers import AutoModelForCausalLM, AutoTokenizer\n",
    "import torch\n",
    "\n",
    "# 추론 파라미터 설정\n",
    "question = \"\"\"인천항야적장에물건만잘전달해주세요. Generally when this conversation happeneing? Explain Simply.\n",
    "Answer: \"\"\"\n",
    "\n",
    "\n",
    "inputs = tokenizer(\n",
    "    question,\n",
    "    return_tensors=\"pt\",\n",
    "    max_length=256,\n",
    "    truncation=True\n",
    ")\n",
    "\n",
    "# 생성 설정\n",
    "outputs = model.generate(\n",
    "    inputs.input_ids.to(model.device),\n",
    "    max_new_tokens=150,\n",
    "    temperature=0.3,  # 창의성 ↓ → 논리적 답변 ↑\n",
    "    top_p=0.95,\n",
    "    do_sample=True,\n",
    "    pad_token_id=tokenizer.eos_token_id  # OLMo 토크나이저 이슈 방지\n",
    ")\n",
    "\n",
    "# 결과 디코딩\n",
    "answer = tokenizer.decode(outputs[0], skip_special_tokens=True)\n",
    "print(answer)"
   ]
  },
  {
   "cell_type": "code",
   "execution_count": 20,
   "metadata": {},
   "outputs": [
    {
     "name": "stdout",
     "output_type": "stream",
     "text": [
      "아니이봐요아이씨. Generally when this conversation happeneing? Explain Simply.\n",
      "Answer: ㅋㅋㅋㅋㅋㅋㅋㅋㅋㅋㅋㅋㅋㅋㅋㅋㅋㅋㅋㅋㅋㅋㅋㅋㅋㅋㅋㅋㅋㅋㅋㅋㅋㅋㅋㅋㅋㅋㅋㅋㅋㅋㅋㅋㅋㅋㅋㅋㅋㅋ\n"
     ]
    }
   ],
   "source": [
    "# Base model's Korean ability checking\n",
    "from transformers import AutoModelForCausalLM, AutoTokenizer\n",
    "import torch\n",
    "\n",
    "# 추론 파라미터 설정\n",
    "question =  \"\"\"아니이봐요아이씨. Generally when this conversation happeneing? Explain Simply.\n",
    "Answer: \"\"\"\n",
    "\n",
    "\n",
    "inputs = tokenizer(\n",
    "    question,\n",
    "    return_tensors=\"pt\",\n",
    "    max_length=256,\n",
    "    truncation=True\n",
    ")\n",
    "\n",
    "# 생성 설정\n",
    "outputs = model.generate(\n",
    "    inputs.input_ids.to(model.device),\n",
    "    max_new_tokens=150,\n",
    "    temperature=0.3,  # 창의성 ↓ → 논리적 답변 ↑\n",
    "    top_p=0.95,\n",
    "    do_sample=True,\n",
    "    pad_token_id=tokenizer.eos_token_id  # OLMo 토크나이저 이슈 방지\n",
    ")\n",
    "\n",
    "# 결과 디코딩\n",
    "answer = tokenizer.decode(outputs[0], skip_special_tokens=True)\n",
    "print(answer)"
   ]
  },
  {
   "cell_type": "code",
   "execution_count": 21,
   "metadata": {},
   "outputs": [
    {
     "name": "stdout",
     "output_type": "stream",
     "text": [
      "저괜찮으세요많이안다치셨어요. Generally when this conversation happeneing? Explain Simply.\n",
      "Answer: ㅋㅋㅋㅋㅋㅋㅋㅋㅋㅋㅋㅋㅋㅋㅋㅋㅋㅋㅋㅋㅋㅋㅋㅋㅋㅋㅋㅋㅋㅋㅋㅋㅋㅋㅋㅋㅋㅋㅋㅋㅋㅋㅋㅋㅋㅋㅋㅋㅋㅋ\n"
     ]
    }
   ],
   "source": [
    "# Base model's Korean ability checking\n",
    "from transformers import AutoModelForCausalLM, AutoTokenizer\n",
    "import torch\n",
    "\n",
    "# 추론 파라미터 설정\n",
    "question = \"\"\"저괜찮으세요많이안다치셨어요. Generally when this conversation happeneing? Explain Simply.\n",
    "Answer: \"\"\"\n",
    "\n",
    "\n",
    "inputs = tokenizer(\n",
    "    question,\n",
    "    return_tensors=\"pt\",\n",
    "    max_length=256,\n",
    "    truncation=True\n",
    ")\n",
    "\n",
    "# 생성 설정\n",
    "outputs = model.generate(\n",
    "    inputs.input_ids.to(model.device),\n",
    "    max_new_tokens=150,\n",
    "    temperature=0.3,  # 창의성 ↓ → 논리적 답변 ↑\n",
    "    top_p=0.95,\n",
    "    do_sample=True,\n",
    "    pad_token_id=tokenizer.eos_token_id  # OLMo 토크나이저 이슈 방지\n",
    ")\n",
    "\n",
    "# 결과 디코딩\n",
    "answer = tokenizer.decode(outputs[0], skip_special_tokens=True)\n",
    "print(answer)"
   ]
  },
  {
   "cell_type": "code",
   "execution_count": null,
   "metadata": {},
   "outputs": [],
   "source": []
  },
  {
   "cell_type": "code",
   "execution_count": null,
   "metadata": {},
   "outputs": [],
   "source": []
  }
 ],
 "metadata": {
  "kernelspec": {
   "display_name": "Python 3 (ipykernel)",
   "language": "python",
   "name": "python3"
  },
  "language_info": {
   "codemirror_mode": {
    "name": "ipython",
    "version": 3
   },
   "file_extension": ".py",
   "mimetype": "text/x-python",
   "name": "python",
   "nbconvert_exporter": "python",
   "pygments_lexer": "ipython3",
   "version": "3.11.6"
  }
 },
 "nbformat": 4,
 "nbformat_minor": 4
}
