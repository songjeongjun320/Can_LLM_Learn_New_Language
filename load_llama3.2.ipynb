{
 "cells": [
  {
   "cell_type": "markdown",
   "metadata": {},
   "source": [
    "# Load Llama3.2"
   ]
  },
  {
   "cell_type": "code",
   "execution_count": null,
   "metadata": {},
   "outputs": [],
   "source": [
    "import requests\n",
    "import ollama\n",
    "# Ollama 서버 설정\n",
    "ollama_host = \"http://sg040:11434\"\n",
    "client = ollama.Client(host=ollama_host)  # 클라이언트 인스턴스 생성\n",
    "prompt = \"Analyze the given image and describe only the specific actions and interactions of the people in the scene. Focus on what they are doing, their gestures, expressions, and interactions, rather than general details about the environment or objects. Avoid assumptions beyond what is explicitly shown in the image.\"\n",
    "# Candidates\n",
    "# Analyze the given image and describe only the specific actions and interactions of the people in the scene. Focus on what they are doing, their gestures, expressions, and interactions, rather than general details about the environment or objects. Avoid assumptions beyond what is explicitly shown in the image.\n",
    "# I'm trying to infer what kind of conversation is taking place. Describe what the situation seems like.\n",
    "try:\n",
    "    response = requests.get(ollama_host)\n",
    "    print(\"Server connected\")\n",
    "    \n",
    "    print(response.text)\n",
    "except requests.ConnectionError:\n",
    "    print(\"Not connected\")"
   ]
  }
 ],
 "metadata": {
  "language_info": {
   "name": "python"
  }
 },
 "nbformat": 4,
 "nbformat_minor": 2
}
