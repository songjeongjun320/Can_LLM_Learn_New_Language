{
 "cells": [
  {
   "cell_type": "code",
   "execution_count": 1,
   "metadata": {},
   "outputs": [],
   "source": [
    "from datasets import Dataset\n",
    "import json\n",
    "import os\n",
    "\n",
    "# 폴더 경로 설정\n",
    "folder_path = \"./Data_Final_Reversed/\"\n",
    "\n",
    "# 모든 .json 파일을 읽어들여 데이터를 병합\n",
    "all_data = {\"input\": [], \"output\": []}\n",
    "\n",
    "for filename in os.listdir(folder_path):\n",
    "    if filename.endswith(\".json\"):\n",
    "        with open(os.path.join(folder_path, filename), \"r\", encoding=\"utf-8\") as f:\n",
    "            data = json.load(f)\n",
    "            all_data[\"input\"].extend([item[\"input\"] for item in data])\n",
    "            all_data[\"output\"].extend([item[\"output\"] for item in data])\n",
    "\n",
    "# Hugging Face Dataset으로 변환\n",
    "dataset = Dataset.from_dict(all_data)\n",
    "\n",
    "# 학습 및 검증 데이터셋 분할 (90% 학습, 10% 검증)\n",
    "dataset = dataset.train_test_split(test_size=0.1)"
   ]
  },
  {
   "cell_type": "code",
   "execution_count": null,
   "metadata": {},
   "outputs": [],
   "source": [
    "import torch\n",
    "from transformers import AutoTokenizer, AutoModelForCausalLM\n",
    "\n",
    "base_model = \"allenai/OLMo-7B-hf\"\n",
    "\n",
    "# 토크나이저 로드\n",
    "tokenizer = AutoTokenizer.from_pretrained(base_model, trust_remote_code=True)\n",
    "\n",
    "# 모델 로드\n",
    "model = AutoModelForCausalLM.from_pretrained(base_model, trust_remote_code=True)\n",
    "\n",
    "# 모델을 bfloat16로 캐스팅\n",
    "model = model.to(torch.bfloat16)\n",
    "\n",
    "# 모델을 GPU로 이동 (옵션)\n",
    "device = torch.device(\"cuda\" if torch.cuda.is_available() else \"cpu\")\n",
    "model = model.to(device)\n",
    "\n",
    "# 모델이 GPU로 이동되었는지 확인\n",
    "print(f\"Model is on device: {model.device}\")\n",
    "print(f\"Model dtype: {model.dtype}\")\n",
    "\n",
    "def preprocess_function(examples):\n",
    "    # 입력과 출력을 결합하여 토큰화\n",
    "    inputs = [f\"Input: {input}\\nOutput: {output}\" for input, output in zip(examples[\"input\"], examples[\"output\"])]\n",
    "    return tokenizer(inputs, truncation=True, padding=\"max_length\", max_length=512)\n",
    "\n",
    "# 데이터셋 전처리\n",
    "tokenized_dataset = dataset.map(preprocess_function, batched=True)"
   ]
  },
  {
   "cell_type": "code",
   "execution_count": 4,
   "metadata": {},
   "outputs": [
    {
     "name": "stderr",
     "output_type": "stream",
     "text": [
      "Detected kernel version 4.18.0, which is below the recommended minimum of 5.5.0; this can cause the process to hang. It is recommended to upgrade the kernel to the minimum version or higher.\n"
     ]
    }
   ],
   "source": [
    "from transformers import TrainingArguments, Trainer, DataCollatorForLanguageModeling\n",
    "import os\n",
    "\n",
    "os.environ[\"PYTORCH_CUDA_ALLOC_CONF\"] = \"expandable_segments:True\"\n",
    "\n",
    "# 학습 하이퍼파라미터 설정\n",
    "model.gradient_checkpointing_enable()\n",
    "\n",
    "training_args = TrainingArguments(\n",
    "    output_dir=\"./fine-tuned-models/results\",\n",
    "    eval_strategy=\"epoch\",\n",
    "    learning_rate=1e-4,  # 안정적인 학습을 위해 감소\n",
    "    per_device_train_batch_size=16,  # VRAM 허용 범위 내에서 증가\n",
    "    per_device_eval_batch_size=8,\n",
    "    gradient_accumulation_steps=1,  # 배치 크기 증가로 인해 줄임\n",
    "    num_train_epochs=15,  # 좀 더 충분한 학습\n",
    "    weight_decay=0.01,\n",
    "    save_total_limit=2,\n",
    "    save_strategy=\"epoch\",\n",
    "    logging_dir=\"./logs\",\n",
    "    logging_steps=10,\n",
    "    fp16=False,  # 사양 좋다면 이걸 켜보는것도\n",
    "    bf16=True,  # 주로 안정적인 학습051,  # 학습 초반 안정성 증가\n",
    "    lr_scheduler_type=\"cosine\",  # 코사인 스케줄러 적용\n",
    "    adam_beta1=0.9,\n",
    "    adam_beta2=0.999,\n",
    ")\n",
    "\n",
    "# 데이터 콜레이터 초기화\n",
    "data_collator = DataCollatorForLanguageModeling(\n",
    "    tokenizer=tokenizer,\n",
    "    mlm=False,  # Masked Language Modeling 사용 여부 (False로 설정)\n",
    ")\n",
    "\n",
    "# Trainer 초기화\n",
    "trainer = Trainer(\n",
    "    model=model,\n",
    "    args=training_args,\n",
    "    train_dataset=tokenized_dataset[\"train\"],\n",
    "    eval_dataset=tokenized_dataset[\"test\"],\n",
    "    data_collator=data_collator,  # 데이터 콜레이터 추가\n",
    ")"
   ]
  },
  {
   "cell_type": "code",
   "execution_count": 5,
   "metadata": {},
   "outputs": [
    {
     "name": "stderr",
     "output_type": "stream",
     "text": [
      "`use_cache=True` is incompatible with gradient checkpointing. Setting `use_cache=False`.\n"
     ]
    },
    {
     "data": {
      "text/html": [
       "\n",
       "    <div>\n",
       "      \n",
       "      <progress value='1395' max='1395' style='width:300px; height:20px; vertical-align: middle;'></progress>\n",
       "      [1395/1395 1:10:10, Epoch 15/15]\n",
       "    </div>\n",
       "    <table border=\"1\" class=\"dataframe\">\n",
       "  <thead>\n",
       " <tr style=\"text-align: left;\">\n",
       "      <th>Epoch</th>\n",
       "      <th>Training Loss</th>\n",
       "      <th>Validation Loss</th>\n",
       "    </tr>\n",
       "  </thead>\n",
       "  <tbody>\n",
       "    <tr>\n",
       "      <td>1</td>\n",
       "      <td>3.244100</td>\n",
       "      <td>3.088089</td>\n",
       "    </tr>\n",
       "    <tr>\n",
       "      <td>2</td>\n",
       "      <td>2.198200</td>\n",
       "      <td>2.245161</td>\n",
       "    </tr>\n",
       "    <tr>\n",
       "      <td>3</td>\n",
       "      <td>1.718300</td>\n",
       "      <td>1.883428</td>\n",
       "    </tr>\n",
       "    <tr>\n",
       "      <td>4</td>\n",
       "      <td>1.233400</td>\n",
       "      <td>1.517323</td>\n",
       "    </tr>\n",
       "    <tr>\n",
       "      <td>5</td>\n",
       "      <td>0.842200</td>\n",
       "      <td>1.190337</td>\n",
       "    </tr>\n",
       "    <tr>\n",
       "      <td>6</td>\n",
       "      <td>0.528700</td>\n",
       "      <td>0.978179</td>\n",
       "    </tr>\n",
       "    <tr>\n",
       "      <td>7</td>\n",
       "      <td>0.373000</td>\n",
       "      <td>0.866119</td>\n",
       "    </tr>\n",
       "    <tr>\n",
       "      <td>8</td>\n",
       "      <td>0.246800</td>\n",
       "      <td>0.814571</td>\n",
       "    </tr>\n",
       "    <tr>\n",
       "      <td>9</td>\n",
       "      <td>0.141000</td>\n",
       "      <td>0.771113</td>\n",
       "    </tr>\n",
       "    <tr>\n",
       "      <td>10</td>\n",
       "      <td>0.074300</td>\n",
       "      <td>0.765584</td>\n",
       "    </tr>\n",
       "    <tr>\n",
       "      <td>11</td>\n",
       "      <td>0.061900</td>\n",
       "      <td>0.765456</td>\n",
       "    </tr>\n",
       "    <tr>\n",
       "      <td>12</td>\n",
       "      <td>0.054000</td>\n",
       "      <td>0.770102</td>\n",
       "    </tr>\n",
       "    <tr>\n",
       "      <td>13</td>\n",
       "      <td>0.052800</td>\n",
       "      <td>0.771222</td>\n",
       "    </tr>\n",
       "    <tr>\n",
       "      <td>14</td>\n",
       "      <td>0.053100</td>\n",
       "      <td>0.771480</td>\n",
       "    </tr>\n",
       "    <tr>\n",
       "      <td>15</td>\n",
       "      <td>0.052100</td>\n",
       "      <td>0.771453</td>\n",
       "    </tr>\n",
       "  </tbody>\n",
       "</table><p>"
      ],
      "text/plain": [
       "<IPython.core.display.HTML object>"
      ]
     },
     "metadata": {},
     "output_type": "display_data"
    },
    {
     "data": {
      "text/plain": [
       "TrainOutput(global_step=1395, training_loss=0.8971977834205901, metrics={'train_runtime': 4215.5921, 'train_samples_per_second': 5.277, 'train_steps_per_second': 0.331, 'total_flos': 4.566288835805184e+17, 'train_loss': 0.8971977834205901, 'epoch': 15.0})"
      ]
     },
     "execution_count": 5,
     "metadata": {},
     "output_type": "execute_result"
    }
   ],
   "source": [
    "trainer.train()"
   ]
  },
  {
   "cell_type": "code",
   "execution_count": 6,
   "metadata": {},
   "outputs": [
    {
     "data": {
      "text/plain": [
       "('./fine-tuned-models/fine-tuned-olmo-v10/tokenizer_config.json',\n",
       " './fine-tuned-models/fine-tuned-olmo-v10/special_tokens_map.json',\n",
       " './fine-tuned-models/fine-tuned-olmo-v10/tokenizer.json')"
      ]
     },
     "execution_count": 6,
     "metadata": {},
     "output_type": "execute_result"
    }
   ],
   "source": [
    "model.save_pretrained(\"./fine-tuned-models/fine-tuned-olmo-v11\") # OLMoE-1B-7B-0924\n",
    "tokenizer.save_pretrained(\"./fine-tuned-models/fine-tuned-olmo-v11\") "
   ]
  },
  {
   "cell_type": "code",
   "execution_count": null,
   "metadata": {},
   "outputs": [],
   "source": []
  }
 ],
 "metadata": {
  "kernelspec": {
   "display_name": "Python 3 (ipykernel)",
   "language": "python",
   "name": "python3"
  },
  "language_info": {
   "codemirror_mode": {
    "name": "ipython",
    "version": 3
   },
   "file_extension": ".py",
   "mimetype": "text/x-python",
   "name": "python",
   "nbconvert_exporter": "python",
   "pygments_lexer": "ipython3",
   "version": "3.11.6"
  }
 },
 "nbformat": 4,
 "nbformat_minor": 4
}
